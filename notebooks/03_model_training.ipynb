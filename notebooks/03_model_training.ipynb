{
 "cells": [
  {
   "cell_type": "code",
   "execution_count": 17,
   "metadata": {},
   "outputs": [],
   "source": [
    "import pandas as pd\n",
    "import numpy as np\n",
    "\n",
    "import matplotlib.pyplot as plt\n",
    "\n",
    "from sklearn.model_selection import train_test_split\n",
    "from sklearn.metrics import mean_absolute_error, mean_squared_error, r2_score\n",
    "\n",
    "import tensorflow as tf\n",
    "from keras.models import Sequential, load_model\n",
    "from keras.layers import Dense, Dropout, Input\n",
    "from keras.callbacks import EarlyStopping"
   ]
  },
  {
   "cell_type": "code",
   "execution_count": 2,
   "metadata": {},
   "outputs": [],
   "source": [
    "filepath = '../data/processed/processed_data.csv'\n",
    "df = pd.read_csv(filepath)"
   ]
  },
  {
   "cell_type": "code",
   "execution_count": 3,
   "metadata": {},
   "outputs": [
    {
     "data": {
      "text/html": [
       "<div>\n",
       "<style scoped>\n",
       "    .dataframe tbody tr th:only-of-type {\n",
       "        vertical-align: middle;\n",
       "    }\n",
       "\n",
       "    .dataframe tbody tr th {\n",
       "        vertical-align: top;\n",
       "    }\n",
       "\n",
       "    .dataframe thead th {\n",
       "        text-align: right;\n",
       "    }\n",
       "</style>\n",
       "<table border=\"1\" class=\"dataframe\">\n",
       "  <thead>\n",
       "    <tr style=\"text-align: right;\">\n",
       "      <th></th>\n",
       "      <th>Amount(in rupees)</th>\n",
       "      <th>Price (in rupees)</th>\n",
       "      <th>Carpet Area</th>\n",
       "      <th>Bathroom</th>\n",
       "      <th>Balcony</th>\n",
       "      <th>Super Area</th>\n",
       "      <th>Current_Floor</th>\n",
       "      <th>Total_Floors</th>\n",
       "      <th>Floor_Ratio</th>\n",
       "      <th>Transaction_Other</th>\n",
       "      <th>...</th>\n",
       "      <th>overlooking_Pool, Main Road</th>\n",
       "      <th>overlooking_Pool, Main Road, Garden/Park</th>\n",
       "      <th>overlooking_Pool, Main Road, Not Available</th>\n",
       "      <th>Ownership_Freehold</th>\n",
       "      <th>Ownership_Leasehold</th>\n",
       "      <th>Ownership_Power Of Attorney</th>\n",
       "      <th>location_freq</th>\n",
       "      <th>Society_freq</th>\n",
       "      <th>Car_Parking_freq</th>\n",
       "      <th>Price_log</th>\n",
       "    </tr>\n",
       "  </thead>\n",
       "  <tbody>\n",
       "    <tr>\n",
       "      <th>0</th>\n",
       "      <td>-0.196926</td>\n",
       "      <td>6000.0</td>\n",
       "      <td>-0.295263</td>\n",
       "      <td>-1.640163</td>\n",
       "      <td>-0.001599</td>\n",
       "      <td>-0.072239</td>\n",
       "      <td>1.219708</td>\n",
       "      <td>0.320028</td>\n",
       "      <td>1.374794</td>\n",
       "      <td>-0.061604</td>\n",
       "      <td>...</td>\n",
       "      <td>-0.078068</td>\n",
       "      <td>-0.005656</td>\n",
       "      <td>-0.002309</td>\n",
       "      <td>0.234628</td>\n",
       "      <td>-0.170292</td>\n",
       "      <td>-0.075717</td>\n",
       "      <td>-1.358704</td>\n",
       "      <td>-1.194688</td>\n",
       "      <td>0.876342</td>\n",
       "      <td>8.699681</td>\n",
       "    </tr>\n",
       "    <tr>\n",
       "      <th>1</th>\n",
       "      <td>-0.051160</td>\n",
       "      <td>13799.0</td>\n",
       "      <td>-0.307042</td>\n",
       "      <td>-0.490266</td>\n",
       "      <td>-0.001599</td>\n",
       "      <td>-0.072239</td>\n",
       "      <td>-0.348577</td>\n",
       "      <td>1.782507</td>\n",
       "      <td>-1.653879</td>\n",
       "      <td>-0.061604</td>\n",
       "      <td>...</td>\n",
       "      <td>-0.078068</td>\n",
       "      <td>-0.005656</td>\n",
       "      <td>-0.002309</td>\n",
       "      <td>0.234628</td>\n",
       "      <td>-0.170292</td>\n",
       "      <td>-0.075717</td>\n",
       "      <td>-1.358704</td>\n",
       "      <td>-1.194688</td>\n",
       "      <td>-1.462531</td>\n",
       "      <td>9.532424</td>\n",
       "    </tr>\n",
       "    <tr>\n",
       "      <th>2</th>\n",
       "      <td>0.058166</td>\n",
       "      <td>17500.0</td>\n",
       "      <td>-0.173542</td>\n",
       "      <td>-0.490266</td>\n",
       "      <td>-0.001599</td>\n",
       "      <td>-0.072239</td>\n",
       "      <td>1.219708</td>\n",
       "      <td>2.713175</td>\n",
       "      <td>-0.836813</td>\n",
       "      <td>-0.061604</td>\n",
       "      <td>...</td>\n",
       "      <td>-0.078068</td>\n",
       "      <td>-0.005656</td>\n",
       "      <td>-0.002309</td>\n",
       "      <td>0.234628</td>\n",
       "      <td>-0.170292</td>\n",
       "      <td>-0.075717</td>\n",
       "      <td>-1.358704</td>\n",
       "      <td>-1.194595</td>\n",
       "      <td>-0.706103</td>\n",
       "      <td>9.770013</td>\n",
       "    </tr>\n",
       "  </tbody>\n",
       "</table>\n",
       "<p>3 rows × 47 columns</p>\n",
       "</div>"
      ],
      "text/plain": [
       "   Amount(in rupees)  Price (in rupees)  Carpet Area  Bathroom   Balcony  \\\n",
       "0          -0.196926             6000.0    -0.295263 -1.640163 -0.001599   \n",
       "1          -0.051160            13799.0    -0.307042 -0.490266 -0.001599   \n",
       "2           0.058166            17500.0    -0.173542 -0.490266 -0.001599   \n",
       "\n",
       "   Super Area  Current_Floor  Total_Floors  Floor_Ratio  Transaction_Other  \\\n",
       "0   -0.072239       1.219708      0.320028     1.374794          -0.061604   \n",
       "1   -0.072239      -0.348577      1.782507    -1.653879          -0.061604   \n",
       "2   -0.072239       1.219708      2.713175    -0.836813          -0.061604   \n",
       "\n",
       "   ...  overlooking_Pool, Main Road  overlooking_Pool, Main Road, Garden/Park  \\\n",
       "0  ...                    -0.078068                                 -0.005656   \n",
       "1  ...                    -0.078068                                 -0.005656   \n",
       "2  ...                    -0.078068                                 -0.005656   \n",
       "\n",
       "   overlooking_Pool, Main Road, Not Available  Ownership_Freehold  \\\n",
       "0                                   -0.002309            0.234628   \n",
       "1                                   -0.002309            0.234628   \n",
       "2                                   -0.002309            0.234628   \n",
       "\n",
       "   Ownership_Leasehold  Ownership_Power Of Attorney  location_freq  \\\n",
       "0            -0.170292                    -0.075717      -1.358704   \n",
       "1            -0.170292                    -0.075717      -1.358704   \n",
       "2            -0.170292                    -0.075717      -1.358704   \n",
       "\n",
       "   Society_freq  Car_Parking_freq  Price_log  \n",
       "0     -1.194688          0.876342   8.699681  \n",
       "1     -1.194688         -1.462531   9.532424  \n",
       "2     -1.194595         -0.706103   9.770013  \n",
       "\n",
       "[3 rows x 47 columns]"
      ]
     },
     "execution_count": 3,
     "metadata": {},
     "output_type": "execute_result"
    }
   ],
   "source": [
    "df.head(3)"
   ]
  },
  {
   "cell_type": "code",
   "execution_count": 4,
   "metadata": {},
   "outputs": [],
   "source": [
    "# Drop columns\n",
    "df = df.drop(columns=['Amount(in rupees)', 'Price (in rupees)'])"
   ]
  },
  {
   "cell_type": "code",
   "execution_count": 5,
   "metadata": {},
   "outputs": [],
   "source": [
    "# Define features and target\n",
    "X = df.drop(columns=['Price_log'])\n",
    "y = df['Price_log']"
   ]
  },
  {
   "cell_type": "code",
   "execution_count": 6,
   "metadata": {},
   "outputs": [
    {
     "data": {
      "text/plain": [
       "(187531, 44)"
      ]
     },
     "execution_count": 6,
     "metadata": {},
     "output_type": "execute_result"
    }
   ],
   "source": [
    "X.shape"
   ]
  },
  {
   "cell_type": "code",
   "execution_count": 7,
   "metadata": {},
   "outputs": [],
   "source": [
    "# Split the data into training, validation, and testing sets\n",
    "X_train, X_temp, y_train, y_temp = train_test_split(X, y, test_size=0.3, random_state=42)\n",
    "X_val, X_test, y_val, y_test = train_test_split(X_temp, y_temp, test_size=0.5, random_state=42)"
   ]
  },
  {
   "cell_type": "code",
   "execution_count": 8,
   "metadata": {},
   "outputs": [
    {
     "data": {
      "text/plain": [
       "(((131271, 44), (28130, 44), (28130, 44)), ((131271,), (28130,), (28130,)))"
      ]
     },
     "execution_count": 8,
     "metadata": {},
     "output_type": "execute_result"
    }
   ],
   "source": [
    "# Output the shapes of the resulting datasets\n",
    "(X_train.shape, X_val.shape, X_test.shape), (y_train.shape, y_val.shape, y_test.shape)"
   ]
  },
  {
   "cell_type": "markdown",
   "metadata": {},
   "source": [
    "## Training an ANN & Evaluation"
   ]
  },
  {
   "cell_type": "code",
   "execution_count": 9,
   "metadata": {},
   "outputs": [
    {
     "name": "stdout",
     "output_type": "stream",
     "text": [
      "Epoch 1/100\n",
      "4103/4103 - 5s - loss: 1.8221 - val_loss: 2.4055 - 5s/epoch - 1ms/step\n",
      "Epoch 2/100\n",
      "4103/4103 - 4s - loss: 0.1941 - val_loss: 0.3325 - 4s/epoch - 1ms/step\n",
      "Epoch 3/100\n",
      "4103/4103 - 4s - loss: 0.1103 - val_loss: 0.1323 - 4s/epoch - 1ms/step\n",
      "Epoch 4/100\n",
      "4103/4103 - 4s - loss: 0.0919 - val_loss: 0.1223 - 4s/epoch - 1ms/step\n",
      "Epoch 5/100\n",
      "4103/4103 - 4s - loss: 0.0790 - val_loss: 0.0906 - 4s/epoch - 1ms/step\n",
      "Epoch 6/100\n",
      "4103/4103 - 4s - loss: 0.0747 - val_loss: 0.0881 - 4s/epoch - 1ms/step\n",
      "Epoch 7/100\n",
      "4103/4103 - 4s - loss: 0.0732 - val_loss: 0.0834 - 4s/epoch - 1ms/step\n",
      "Epoch 8/100\n",
      "4103/4103 - 4s - loss: 0.0750 - val_loss: 0.0763 - 4s/epoch - 1ms/step\n",
      "Epoch 9/100\n",
      "4103/4103 - 4s - loss: 0.0720 - val_loss: 0.0794 - 4s/epoch - 1ms/step\n",
      "Epoch 10/100\n",
      "4103/4103 - 4s - loss: 0.0678 - val_loss: 0.0794 - 4s/epoch - 1ms/step\n",
      "Epoch 11/100\n",
      "4103/4103 - 4s - loss: 0.0670 - val_loss: 0.0875 - 4s/epoch - 1ms/step\n",
      "Epoch 12/100\n",
      "4103/4103 - 4s - loss: 0.0661 - val_loss: 0.0693 - 4s/epoch - 1ms/step\n",
      "Epoch 13/100\n",
      "4103/4103 - 4s - loss: 0.0669 - val_loss: 0.0704 - 4s/epoch - 1ms/step\n",
      "Epoch 14/100\n",
      "4103/4103 - 4s - loss: 0.0653 - val_loss: 0.0764 - 4s/epoch - 1ms/step\n",
      "Epoch 15/100\n",
      "4103/4103 - 5s - loss: 0.0641 - val_loss: 0.0701 - 5s/epoch - 1ms/step\n",
      "Epoch 16/100\n",
      "4103/4103 - 4s - loss: 0.0650 - val_loss: 0.0740 - 4s/epoch - 1ms/step\n",
      "Epoch 17/100\n",
      "4103/4103 - 4s - loss: 0.0633 - val_loss: 0.0682 - 4s/epoch - 1ms/step\n",
      "Epoch 18/100\n",
      "4103/4103 - 4s - loss: 0.0631 - val_loss: 0.0676 - 4s/epoch - 1ms/step\n",
      "Epoch 19/100\n",
      "4103/4103 - 4s - loss: 0.0626 - val_loss: 0.0709 - 4s/epoch - 1ms/step\n",
      "Epoch 20/100\n",
      "4103/4103 - 4s - loss: 0.0625 - val_loss: 0.0744 - 4s/epoch - 1ms/step\n",
      "Epoch 21/100\n",
      "4103/4103 - 4s - loss: 0.0620 - val_loss: 0.0690 - 4s/epoch - 1ms/step\n",
      "Epoch 22/100\n",
      "4103/4103 - 4s - loss: 0.0613 - val_loss: 0.0637 - 4s/epoch - 1ms/step\n",
      "Epoch 23/100\n",
      "4103/4103 - 4s - loss: 0.0611 - val_loss: 0.0674 - 4s/epoch - 1ms/step\n",
      "Epoch 24/100\n",
      "4103/4103 - 4s - loss: 0.0607 - val_loss: 0.0637 - 4s/epoch - 1ms/step\n",
      "Epoch 25/100\n",
      "4103/4103 - 5s - loss: 0.0608 - val_loss: 0.0643 - 5s/epoch - 1ms/step\n",
      "Epoch 26/100\n",
      "4103/4103 - 4s - loss: 0.0610 - val_loss: 0.0727 - 4s/epoch - 1ms/step\n",
      "Epoch 27/100\n",
      "4103/4103 - 4s - loss: 0.0605 - val_loss: 0.0667 - 4s/epoch - 1ms/step\n",
      "Epoch 28/100\n",
      "4103/4103 - 4s - loss: 0.0602 - val_loss: 0.0621 - 4s/epoch - 1ms/step\n",
      "Epoch 29/100\n",
      "4103/4103 - 4s - loss: 0.0597 - val_loss: 0.0654 - 4s/epoch - 1ms/step\n",
      "Epoch 30/100\n",
      "4103/4103 - 4s - loss: 0.0600 - val_loss: 0.0687 - 4s/epoch - 1ms/step\n",
      "Epoch 31/100\n",
      "4103/4103 - 4s - loss: 0.0597 - val_loss: 0.0666 - 4s/epoch - 1ms/step\n",
      "Epoch 32/100\n",
      "4103/4103 - 4s - loss: 0.0596 - val_loss: 0.0763 - 4s/epoch - 1ms/step\n",
      "Epoch 33/100\n",
      "4103/4103 - 4s - loss: 0.0593 - val_loss: 0.0648 - 4s/epoch - 1ms/step\n",
      "Epoch 34/100\n",
      "4103/4103 - 4s - loss: 0.0596 - val_loss: 0.0646 - 4s/epoch - 1ms/step\n",
      "Epoch 35/100\n",
      "4103/4103 - 4s - loss: 0.0588 - val_loss: 0.0601 - 4s/epoch - 1ms/step\n",
      "Epoch 36/100\n",
      "4103/4103 - 4s - loss: 0.0590 - val_loss: 0.0627 - 4s/epoch - 1ms/step\n",
      "Epoch 37/100\n",
      "4103/4103 - 4s - loss: 0.0588 - val_loss: 0.0609 - 4s/epoch - 1ms/step\n",
      "Epoch 38/100\n",
      "4103/4103 - 4s - loss: 0.0613 - val_loss: 0.0619 - 4s/epoch - 1ms/step\n",
      "Epoch 39/100\n",
      "4103/4103 - 4s - loss: 0.0580 - val_loss: 0.0665 - 4s/epoch - 1ms/step\n",
      "Epoch 40/100\n",
      "4103/4103 - 4s - loss: 0.0583 - val_loss: 0.0614 - 4s/epoch - 1ms/step\n",
      "Epoch 41/100\n",
      "4103/4103 - 4s - loss: 0.0585 - val_loss: 0.0614 - 4s/epoch - 1ms/step\n",
      "Epoch 42/100\n",
      "4103/4103 - 4s - loss: 0.0579 - val_loss: 0.0621 - 4s/epoch - 1ms/step\n",
      "Epoch 43/100\n",
      "4103/4103 - 4s - loss: 0.0584 - val_loss: 0.0642 - 4s/epoch - 1ms/step\n",
      "Epoch 44/100\n",
      "4103/4103 - 4s - loss: 0.0580 - val_loss: 0.0630 - 4s/epoch - 1ms/step\n",
      "Epoch 45/100\n",
      "4103/4103 - 4s - loss: 0.0579 - val_loss: 0.0598 - 4s/epoch - 1ms/step\n",
      "Epoch 46/100\n",
      "4103/4103 - 4s - loss: 0.0576 - val_loss: 0.0609 - 4s/epoch - 1ms/step\n",
      "Epoch 47/100\n",
      "4103/4103 - 5s - loss: 0.0577 - val_loss: 0.0708 - 5s/epoch - 1ms/step\n",
      "Epoch 48/100\n",
      "4103/4103 - 4s - loss: 0.0580 - val_loss: 0.0624 - 4s/epoch - 1ms/step\n",
      "Epoch 49/100\n",
      "4103/4103 - 4s - loss: 0.0579 - val_loss: 0.0606 - 4s/epoch - 1ms/step\n",
      "Epoch 50/100\n",
      "4103/4103 - 4s - loss: 0.0571 - val_loss: 0.0630 - 4s/epoch - 1ms/step\n",
      "Epoch 51/100\n",
      "4103/4103 - 4s - loss: 0.0578 - val_loss: 0.0610 - 4s/epoch - 1ms/step\n",
      "Epoch 52/100\n",
      "4103/4103 - 4s - loss: 0.0575 - val_loss: 0.0637 - 4s/epoch - 1ms/step\n",
      "Epoch 53/100\n",
      "4103/4103 - 4s - loss: 0.0577 - val_loss: 0.0636 - 4s/epoch - 1ms/step\n",
      "Epoch 54/100\n",
      "4103/4103 - 4s - loss: 0.0576 - val_loss: 0.0610 - 4s/epoch - 1ms/step\n",
      "Epoch 55/100\n",
      "4103/4103 - 4s - loss: 0.0577 - val_loss: 0.0600 - 4s/epoch - 1ms/step\n"
     ]
    }
   ],
   "source": [
    "model = Sequential() # Define the model\n",
    "model.add(Input(shape=(44,))) # Set up the input dimension\n",
    "\n",
    "model.add(Dense(64, activation='relu')) # Input Layer\n",
    "model.add(Dense(128, activation='relu')) # Hidden Layer\n",
    "model.add(Dropout(0.3)) # Dropout layer to prevent overfitting\n",
    "model.add(Dense(64, activation='relu'))\n",
    "model.add(Dropout(0.3))\n",
    "model.add(Dense(32, activation='relu'))\n",
    "\n",
    "model.add(Dense(1, activation='linear'))\n",
    "\n",
    "model.compile(optimizer='adam', loss='mean_squared_error')\n",
    "\n",
    "# Define early stopping\n",
    "early_stopping = EarlyStopping(monitor='val_loss', patience=10, restore_best_weights=True)\n",
    "\n",
    "# train the model\n",
    "history = model.fit(\n",
    "    X_train, y_train,\n",
    "    validation_data=(X_val, y_val),\n",
    "    epochs=100,\n",
    "    batch_size=32,\n",
    "    callbacks=[early_stopping],\n",
    "    verbose=2\n",
    ")"
   ]
  },
  {
   "cell_type": "code",
   "execution_count": 10,
   "metadata": {},
   "outputs": [
    {
     "name": "stdout",
     "output_type": "stream",
     "text": [
      "880/880 - 1s - loss: 0.0585 - 522ms/epoch - 593us/step\n",
      "Test Loss: 0.058492422103881836\n"
     ]
    }
   ],
   "source": [
    "# Evaluate the model on the test set\n",
    "test_loss = model.evaluate(X_test, y_test, verbose=2)\n",
    "print(f\"Test Loss: {test_loss}\")"
   ]
  },
  {
   "cell_type": "code",
   "execution_count": 11,
   "metadata": {},
   "outputs": [
    {
     "data": {
      "image/png": "[encoded data removed]",
      "text/plain": [
       "<Figure size 640x480 with 1 Axes>"
      ]
     },
     "metadata": {},
     "output_type": "display_data"
    }
   ],
   "source": [
    "# Ploting the Learning Curves\n",
    "# Plot training & validation loss values\n",
    "plt.plot(history.history['loss'], label='Train Loss')\n",
    "plt.plot(history.history['val_loss'], label='Validation Loss')\n",
    "plt.title('Model Loss')\n",
    "plt.ylabel('Loss')\n",
    "plt.xlabel('Epoch')\n",
    "plt.legend(loc='upper right')\n",
    "plt.show()"
   ]
  },
  {
   "cell_type": "code",
   "execution_count": 12,
   "metadata": {},
   "outputs": [
    {
     "name": "stdout",
     "output_type": "stream",
     "text": [
      "880/880 [==============================] - 1s 598us/step\n"
     ]
    }
   ],
   "source": [
    "# Predict on the test set\n",
    "y_pred = model.predict(X_test)"
   ]
  },
  {
   "cell_type": "code",
   "execution_count": 13,
   "metadata": {},
   "outputs": [
    {
     "name": "stdout",
     "output_type": "stream",
     "text": [
      "Mean Absolute Error: 0.13674871605001773\n",
      "Mean Squared Error: 0.058492446070058754\n",
      "R Squared: 0.7559778068346733\n"
     ]
    }
   ],
   "source": [
    "# Evaluate performance\n",
    "mae = mean_absolute_error(y_test, y_pred)\n",
    "mse = mean_squared_error(y_test, y_pred)\n",
    "r2 = r2_score(y_test, y_pred)\n",
    "\n",
    "print(f\"Mean Absolute Error: {mae}\")\n",
    "print(f\"Mean Squared Error: {mse}\")\n",
    "print(f\"R Squared: {r2}\")"
   ]
  },
  {
   "cell_type": "code",
   "execution_count": 19,
   "metadata": {},
   "outputs": [],
   "source": [
    "# Save the entire model\n",
    "model.save('../models/house_price_prediction_model.keras')"
   ]
  },
  {
   "cell_type": "code",
   "execution_count": 20,
   "metadata": {},
   "outputs": [],
   "source": [
    "# Save only weights\n",
    "model.save_weights('../models/house_price_prediction_weights.keras')"
   ]
  },
  {
   "cell_type": "code",
   "execution_count": null,
   "metadata": {},
   "outputs": [],
   "source": []
  }
 ],
 "metadata": {
  "kernelspec": {
   "display_name": "deep_learning",
   "language": "python",
   "name": "python3"
  },
  "language_info": {
   "codemirror_mode": {
    "name": "ipython",
    "version": 3
   },
   "file_extension": ".py",
   "mimetype": "text/x-python",
   "name": "python",
   "nbconvert_exporter": "python",
   "pygments_lexer": "ipython3",
   "version": "3.8.19"
  }
 },
 "nbformat": 4,
 "nbformat_minor": 2
}
