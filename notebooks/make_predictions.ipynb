{
 "cells": [
  {
   "cell_type": "code",
   "execution_count": 1,
   "metadata": {},
   "outputs": [
    {
     "name": "stderr",
     "output_type": "stream",
     "text": [
      "2024-08-27 15:47:26.667888: I tensorflow/core/platform/cpu_feature_guard.cc:182] This TensorFlow binary is optimized to use available CPU instructions in performance-critical operations.\n",
      "To enable the following instructions: AVX2 FMA, in other operations, rebuild TensorFlow with the appropriate compiler flags.\n"
     ]
    }
   ],
   "source": [
    "import numpy as np\n",
    "import pandas as pd\n",
    "\n",
    "from keras.models import load_model\n",
    "import joblib"
   ]
  },
  {
   "cell_type": "code",
   "execution_count": 2,
   "metadata": {},
   "outputs": [],
   "source": [
    "# Load the saved model\n",
    "model = load_model('../models/house_price_prediction_model.keras')\n",
    "\n",
    "# Load the scaler\n",
    "scaler = joblib.load('../models/standard_scaler.pkl')\n",
    "\n",
    "def preprocess_input(data, scaler, required_columns):\n",
    "    \"\"\"\n",
    "    Preprocess the input data: scale it using the saved scaler and ensure it has the same columns\n",
    "    as the model was trained on.\n",
    "    \"\"\"\n",
    "    # Convert the data to a DataFrame if it is not already\n",
    "    if isinstance(data, dict):\n",
    "        data = pd.DataFrame([data])\n",
    "    elif isinstance(data, list):\n",
    "        data = pd.DataFrame(data)\n",
    "\n",
    "    # Ensure all required columns are present\n",
    "    for col in required_columns:\n",
    "        if col not in data.columns:\n",
    "            data[col] = 0\n",
    "\n",
    "    # Reorder columns to match the training set\n",
    "    data = data[required_columns]\n",
    "\n",
    "    # Scale the data\n",
    "    scaled_data = scaler.transform(data)\n",
    "\n",
    "    return scaled_data\n",
    "\n",
    "def predict_price(data, model, scaler, required_columns):\n",
    "    \"\"\"\n",
    "    Predict the price using the pre-trained model.\n",
    "    :param data: dict or list of dicts with raw input data\n",
    "    :param model: the pre-trained Keras model\n",
    "    :param scaler: the pre-fitted scaler\n",
    "    :param required_columns: list of columns the model was trained on\n",
    "    :return: predicted prices\n",
    "    \"\"\"\n",
    "    # Preprocess the input\n",
    "    processed_data = preprocess_input(data, scaler, required_columns)\n",
    "\n",
    "    # Make predictions\n",
    "    predictions = model.predict(processed_data)\n",
    "\n",
    "    return np.expm1(predictions)\n"
   ]
  },
  {
   "cell_type": "code",
   "execution_count": 3,
   "metadata": {},
   "outputs": [],
   "source": [
    "# Define Required Columns\n",
    "required_columns = ['Carpet Area', 'Bathroom', 'Balcony', 'Super Area', 'Current_Floor', 'Total_Floors',\n",
    "                    'Floor_Ratio', 'Transaction_Other', 'Transaction_Rent/Lease', 'Transaction_Resale',\n",
    "                    'Furnishing_Semi-Furnished', 'Furnishing_Unfurnished', 'facing_North',\n",
    "                    'facing_North - East', 'facing_North - West', 'facing_South', 'facing_South - East',\n",
    "                    'facing_South -West', 'facing_West', 'overlooking_Garden/Park, Main Road',\n",
    "                    'overlooking_Garden/Park, Main Road, Pool', 'overlooking_Garden/Park, Not Available',\n",
    "                    'overlooking_Garden/Park, Pool', 'overlooking_Garden/Park, Pool, Main Road',\n",
    "                    'overlooking_Garden/Park, Pool, Main Road, Not Available', 'overlooking_Main Road',\n",
    "                    'overlooking_Main Road, Garden/Park', 'overlooking_Main Road, Garden/Park, Pool',\n",
    "                    'overlooking_Main Road, Not Available', 'overlooking_Main Road, Pool',\n",
    "                    'overlooking_Main Road, Pool, Garden/Park', 'overlooking_Not Specified',\n",
    "                    'overlooking_Pool', 'overlooking_Pool, Garden/Park', 'overlooking_Pool, Garden/Park, Main Road',\n",
    "                    'overlooking_Pool, Main Road', 'overlooking_Pool, Main Road, Garden/Park',\n",
    "                    'overlooking_Pool, Main Road, Not Available', 'Ownership_Freehold', 'Ownership_Leasehold',\n",
    "                    'Ownership_Power Of Attorney', 'location_freq', 'Society_freq', 'Car_Parking_freq']"
   ]
  },
  {
   "cell_type": "code",
   "execution_count": 7,
   "metadata": {},
   "outputs": [
    {
     "name": "stdout",
     "output_type": "stream",
     "text": [
      "1/1 [==============================] - 0s 23ms/step\n"
     ]
    }
   ],
   "source": [
    "# Making prediction\n",
    "# Making single prediction)\n",
    "input_data = {\n",
    "    'Carpet Area': 1500, \n",
    "    'Bathroom': 3, \n",
    "    'Balcony': 2, \n",
    "    'Super Area': 1800, \n",
    "    'Current_Floor': 7, \n",
    "    'Total_Floors': 15,\n",
    "    'Floor_Ratio': 0.4667,\n",
    "    'Transaction_Other': 0,\n",
    "    'Transaction_Rent/Lease': 0,\n",
    "    'Transaction_Resale': 1,\n",
    "    'Furnishing_Semi-Furnished': 1,\n",
    "    'Furnishing_Unfurnished': 0,\n",
    "    'facing_North': 1,\n",
    "    'facing_North - East': 0,\n",
    "    'facing_North - West': 0,\n",
    "    'facing_South': 0,\n",
    "    'facing_South - East': 0,\n",
    "    'facing_South -West': 0,\n",
    "    'facing_West': 0,\n",
    "    'overlooking_Garden/Park, Main Road': 1,\n",
    "    'overlooking_Garden/Park, Main Road, Pool': 0,\n",
    "    'overlooking_Garden/Park, Not Available': 0,\n",
    "    'overlooking_Garden/Park, Pool': 0,\n",
    "    'overlooking_Garden/Park, Pool, Main Road': 0,\n",
    "    'overlooking_Garden/Park, Pool, Main Road, Not Available': 0,\n",
    "    'overlooking_Main Road': 0,\n",
    "    'overlooking_Main Road, Garden/Park': 0,\n",
    "    'overlooking_Main Road, Garden/Park, Pool': 0,\n",
    "    'overlooking_Main Road, Not Available': 0,\n",
    "    'overlooking_Main Road, Pool': 0,\n",
    "    'overlooking_Main Road, Pool, Garden/Park': 0,\n",
    "    'overlooking_Not Specified': 0,\n",
    "    'overlooking_Pool': 0,\n",
    "    'overlooking_Pool, Garden/Park': 0,\n",
    "    'overlooking_Pool, Garden/Park, Main Road': 0,\n",
    "    'overlooking_Pool, Main Road': 0,\n",
    "    'overlooking_Pool, Main Road, Garden/Park': 0,\n",
    "    'overlooking_Pool, Main Road, Not Available': 0,\n",
    "    'Ownership_Freehold': 1,\n",
    "    'Ownership_Leasehold': 0,\n",
    "    'Ownership_Power Of Attorney': 0,\n",
    "    'location_freq': 27599, \n",
    "    'Society_freq': 109678, \n",
    "    'Car_Parking_freq': 103357\n",
    "}\n",
    "\n",
    "predicted_price = predict_price(input_data, model=model, scaler=scaler, required_columns=required_columns)"
   ]
  },
  {
   "cell_type": "code",
   "execution_count": 8,
   "metadata": {},
   "outputs": [
    {
     "data": {
      "text/plain": [
       "array([[13329.315]], dtype=float32)"
      ]
     },
     "execution_count": 8,
     "metadata": {},
     "output_type": "execute_result"
    }
   ],
   "source": [
    "predicted_price"
   ]
  },
  {
   "cell_type": "code",
   "execution_count": null,
   "metadata": {},
   "outputs": [],
   "source": []
  }
 ],
 "metadata": {
  "kernelspec": {
   "display_name": "deep_learning",
   "language": "python",
   "name": "python3"
  },
  "language_info": {
   "codemirror_mode": {
    "name": "ipython",
    "version": 3
   },
   "file_extension": ".py",
   "mimetype": "text/x-python",
   "name": "python",
   "nbconvert_exporter": "python",
   "pygments_lexer": "ipython3",
   "version": "3.8.19"
  }
 },
 "nbformat": 4,
 "nbformat_minor": 2
}
