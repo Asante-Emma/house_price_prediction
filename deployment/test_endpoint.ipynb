{
 "cells": [
  {
   "cell_type": "code",
   "execution_count": 1,
   "metadata": {},
   "outputs": [],
   "source": [
    "import requests"
   ]
  },
  {
   "cell_type": "code",
   "execution_count": 2,
   "metadata": {},
   "outputs": [
    {
     "name": "stdout",
     "output_type": "stream",
     "text": [
      "Predicted Price: [[13329.3154296875]]\n"
     ]
    }
   ],
   "source": [
    "# Define the URL of the API\n",
    "url = \"http://127.0.0.1:5000/predict\"\n",
    "\n",
    "# Define the input data\n",
    "input_data = {\n",
    "    'Carpet Area': 1500, \n",
    "    'Bathroom': 3, \n",
    "    'Balcony': 2, \n",
    "    'Super Area': 1800, \n",
    "    'Current_Floor': 7, \n",
    "    'Total_Floors': 15,\n",
    "    'Floor_Ratio': 0.4667,\n",
    "    'Transaction_Other': 0,\n",
    "    'Transaction_Rent/Lease': 0,\n",
    "    'Transaction_Resale': 1,\n",
    "    'Furnishing_Semi-Furnished': 1,\n",
    "    'Furnishing_Unfurnished': 0,\n",
    "    'facing_North': 1,\n",
    "    'facing_North - East': 0,\n",
    "    'facing_North - West': 0,\n",
    "    'facing_South': 0,\n",
    "    'facing_South - East': 0,\n",
    "    'facing_South -West': 0,\n",
    "    'facing_West': 0,\n",
    "    'overlooking_Garden/Park, Main Road': 1,\n",
    "    'overlooking_Garden/Park, Main Road, Pool': 0,\n",
    "    'overlooking_Garden/Park, Not Available': 0,\n",
    "    'overlooking_Garden/Park, Pool': 0,\n",
    "    'overlooking_Garden/Park, Pool, Main Road': 0,\n",
    "    'overlooking_Garden/Park, Pool, Main Road, Not Available': 0,\n",
    "    'overlooking_Main Road': 0,\n",
    "    'overlooking_Main Road, Garden/Park': 0,\n",
    "    'overlooking_Main Road, Garden/Park, Pool': 0,\n",
    "    'overlooking_Main Road, Not Available': 0,\n",
    "    'overlooking_Main Road, Pool': 0,\n",
    "    'overlooking_Main Road, Pool, Garden/Park': 0,\n",
    "    'overlooking_Not Specified': 0,\n",
    "    'overlooking_Pool': 0,\n",
    "    'overlooking_Pool, Garden/Park': 0,\n",
    "    'overlooking_Pool, Garden/Park, Main Road': 0,\n",
    "    'overlooking_Pool, Main Road': 0,\n",
    "    'overlooking_Pool, Main Road, Garden/Park': 0,\n",
    "    'overlooking_Pool, Main Road, Not Available': 0,\n",
    "    'Ownership_Freehold': 1,\n",
    "    'Ownership_Leasehold': 0,\n",
    "    'Ownership_Power Of Attorney': 0,\n",
    "    'location_freq': 27599, \n",
    "    'Society_freq': 109678, \n",
    "    'Car_Parking_freq': 103357\n",
    "}\n",
    "\n",
    "# Send a POST request to the API\n",
    "response = requests.post(url, json=input_data)\n",
    "\n",
    "# Check the status code of the response\n",
    "if response.status_code == 200:\n",
    "    # Print the predicted price\n",
    "    print(\"Predicted Price:\", response.json()['predicted_price'])\n",
    "else:\n",
    "    # Print the error message\n",
    "    print(\"Error:\", response.status_code, response.text)"
   ]
  },
  {
   "cell_type": "code",
   "execution_count": null,
   "metadata": {},
   "outputs": [],
   "source": []
  }
 ],
 "metadata": {
  "kernelspec": {
   "display_name": "deep_learning",
   "language": "python",
   "name": "python3"
  },
  "language_info": {
   "codemirror_mode": {
    "name": "ipython",
    "version": 3
   },
   "file_extension": ".py",
   "mimetype": "text/x-python",
   "name": "python",
   "nbconvert_exporter": "python",
   "pygments_lexer": "ipython3",
   "version": "3.8.19"
  }
 },
 "nbformat": 4,
 "nbformat_minor": 2
}
